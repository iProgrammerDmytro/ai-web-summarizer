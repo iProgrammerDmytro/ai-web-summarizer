{
 "cells": [
  {
   "cell_type": "code",
   "execution_count": null,
   "metadata": {},
   "outputs": [],
   "source": [
    "from app.adapters.fetchers import RequestsFetcher\n",
    "from app.adapters.parsers import RobustSoupParser\n",
    "from app.adapters.llm_clients import OllamaClient\n",
    "from app.core.pipeline import SummarizationPipeline\n",
    "from app.presentation.presenter import JupyterPresenter\n",
    "\n"
   ]
  },
  {
   "cell_type": "code",
   "execution_count": null,
   "metadata": {},
   "outputs": [],
   "source": [
    "pipeline = SummarizationPipeline(\n",
    "    fetcher=RequestsFetcher(),\n",
    "    parser=RobustSoupParser(),\n",
    "    llm_client=OllamaClient(),\n",
    ")\n",
    "\n",
    "response = pipeline.summarize(\"https://www.anthropic.com/\", model=\"llama3.2\")\n",
    "JupyterPresenter.display(response)"
   ]
  },
  {
   "cell_type": "code",
   "execution_count": null,
   "metadata": {},
   "outputs": [],
   "source": []
  }
 ],
 "metadata": {
  "kernelspec": {
   "display_name": "Python 3 (ipykernel)",
   "language": "python",
   "name": "python3"
  },
  "language_info": {
   "codemirror_mode": {
    "name": "ipython",
    "version": 3
   },
   "file_extension": ".py",
   "mimetype": "text/x-python",
   "name": "python",
   "nbconvert_exporter": "python",
   "pygments_lexer": "ipython3",
   "version": "3.11.6"
  }
 },
 "nbformat": 4,
 "nbformat_minor": 4
}
